{
  "nbformat": 4,
  "nbformat_minor": 0,
  "metadata": {
    "colab": {
      "name": "Day 3 assignment and  mini project.ipynb",
      "provenance": [],
      "authorship_tag": "ABX9TyOGDyYXr2CtRb2JrxBQ+jk9",
      "include_colab_link": true
    },
    "kernelspec": {
      "name": "python3",
      "display_name": "Python 3"
    },
    "language_info": {
      "name": "python"
    }
  },
  "cells": [
    {
      "cell_type": "markdown",
      "metadata": {
        "id": "view-in-github",
        "colab_type": "text"
      },
      "source": [
        "<a href=\"https://colab.research.google.com/github/sai2722/day-3-assignment-and-mini-project/blob/main/Day_3_assignment_and_mini_project.ipynb\" target=\"_parent\"><img src=\"https://colab.research.google.com/assets/colab-badge.svg\" alt=\"Open In Colab\"/></a>"
      ]
    },
    {
      "cell_type": "code",
      "metadata": {
        "id": "UX5pVNiNWX9T"
      },
      "source": [
        "#mini project\n",
        "\n",
        "WAP to generate  everytime 6 character  otp \n",
        " \n",
        "\n"
      ],
      "execution_count": null,
      "outputs": []
    },
    {
      "cell_type": "code",
      "metadata": {
        "colab": {
          "base_uri": "https://localhost:8080/"
        },
        "id": "N-n4H1UgYclZ",
        "outputId": "a810eefc-b09e-4967-b80d-5ef9717501eb"
      },
      "source": [
        "import random\n",
        "otp = \"\"\n",
        "for i in range(6) :\n",
        "    otp = otp + str(random.randint(0,9))\n",
        "print(otp)"
      ],
      "execution_count": null,
      "outputs": [
        {
          "output_type": "stream",
          "text": [
            "663133\n"
          ],
          "name": "stdout"
        }
      ]
    },
    {
      "cell_type": "code",
      "metadata": {
        "id": "6cRVYYcxZoo-"
      },
      "source": [
        "#DAY3  ASSIGNMENT - Implement a decorator mod_div(which assures that number is always greater than denominator\n",
        "\n"
      ],
      "execution_count": 1,
      "outputs": []
    },
    {
      "cell_type": "code",
      "metadata": {
        "colab": {
          "base_uri": "https://localhost:8080/"
        },
        "id": "Vwr3MTsRTSy3",
        "outputId": "9a650402-74ca-4c57-e3a2-e1d361e89246"
      },
      "source": [
        "def fix(func):\n",
        "    def inner(a,b):\n",
        "        if a > b:\n",
        "            func(a,b)\n",
        "        else:\n",
        "            func(b,a)\n",
        "    return inner\n",
        "\n",
        "@fix\n",
        "def div(a,b):\n",
        "    print(a/b)\n",
        "    \n",
        "div(2,4)\n",
        "div(4,2)"
      ],
      "execution_count": 2,
      "outputs": [
        {
          "output_type": "stream",
          "text": [
            "2.0\n",
            "2.0\n"
          ],
          "name": "stdout"
        }
      ]
    },
    {
      "cell_type": "code",
      "metadata": {
        "id": "W-ZgqA3WTVFJ"
      },
      "source": [
        ""
      ],
      "execution_count": null,
      "outputs": []
    }
  ]
}